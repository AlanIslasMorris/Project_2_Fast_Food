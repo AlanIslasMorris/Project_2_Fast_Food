{
 "cells": [
  {
   "cell_type": "code",
   "execution_count": 16,
   "id": "d3648d03-9505-4044-9ab1-73a2ea0b9fdf",
   "metadata": {},
   "outputs": [],
   "source": [
    "import pandas as pd\n",
    "import csv\n",
    "\n",
    "# Provided DataFrame\n",
    "fastfood_df = pd.read_csv('./Resources/McDonald_s_Reviews.csv', encoding='Latin1')"
   ]
  },
  {
   "cell_type": "code",
   "execution_count": 17,
   "id": "8a4a9a99-9295-4512-b03c-e2227bbb9fde",
   "metadata": {},
   "outputs": [],
   "source": [
    "fastfood_df['store_name'] = fastfood_df['store_name'].replace(\"ýýýMcDonald's\", \"McDonald's\")\n"
   ]
  },
  {
   "cell_type": "code",
   "execution_count": 20,
   "id": "271d3b79-1e62-4144-b29d-64e48612f102",
   "metadata": {},
   "outputs": [],
   "source": [
    "# Create a DataFrame from the sample data\n",
    "df = pd.DataFrame(fastfood_df)"
   ]
  },
  {
   "cell_type": "code",
   "execution_count": 21,
   "id": "4ef88082-41d2-4cd0-820c-25e8220c90ee",
   "metadata": {},
   "outputs": [],
   "source": [
    "# First table - store_names\n",
    "store_names = df[['store_name']].drop_duplicates().reset_index(drop=True)\n",
    "store_names['id_store_names'] = store_names.index\n",
    "# Use encode('utf-8') to handle special characters in store names\n",
    "store_names['store_name'] = store_names['store_name'].str.encode('utf-8').str.decode('utf-8')\n",
    "store_names = store_names[['id_store_names', 'store_name']]  # Corrected order\n",
    "store_names.to_csv('store_names.csv', index=False)"
   ]
  },
  {
   "cell_type": "code",
   "execution_count": 23,
   "id": "e63b50fe-a9a2-4525-b75e-dd73ea0cd4c3",
   "metadata": {},
   "outputs": [],
   "source": [
    "# Second table - categories\n",
    "categories = df[['category']].drop_duplicates().reset_index(drop=True)\n",
    "categories['id_categories'] = categories.index\n",
    "categories = categories[['id_categories', 'category']]  # Corrected order\n",
    "categories.to_csv('categories.csv', index=False)"
   ]
  },
  {
   "cell_type": "code",
   "execution_count": 25,
   "id": "8cf842b4-5fb0-4f5f-9b06-1bb1ba36598e",
   "metadata": {},
   "outputs": [],
   "source": [
    "# Fourth table - stores\n",
    "stores = df[['store_name', 'category', 'store_address', 'latitude ', 'longitude', 'rating_count']].drop_duplicates().reset_index(drop=True)\n",
    "stores = stores.merge(store_names, on='store_name').merge(categories, on='category')\n",
    "# Convert rating_count to float with proper format\n",
    "stores['rating_count'] = stores['rating_count'].str.replace(',', '').astype(float)\n",
    "# Use groupby to calculate the mean rating_count for each store_address\n",
    "stores = stores.groupby(['store_address', 'id_store_names', 'id_categories', 'latitude ', 'longitude'])[['rating_count']].mean().reset_index()\n",
    "stores['id_store'] = stores.index  # Create id_store as a unique identifier for each store\n",
    "stores = stores[['id_store', 'id_store_names', 'id_categories', 'store_address', 'latitude ', 'longitude', 'rating_count']]  # Corrected order\n",
    "stores.to_csv('stores.csv', index=False)"
   ]
  },
  {
   "cell_type": "code",
   "execution_count": 28,
   "id": "63d47d81-46d0-4427-883f-eb6b36e22f7d",
   "metadata": {},
   "outputs": [],
   "source": [
    "# Third table - reviews\n",
    "reviews = df[['store_address', 'review_time', 'rating', 'review']].drop_duplicates().merge(stores, on='store_address', how='inner').drop_duplicates().reset_index(drop=True)"
   ]
  },
  {
   "cell_type": "code",
   "execution_count": 30,
   "id": "79cce575-0468-4168-848c-d57ce6a21c76",
   "metadata": {},
   "outputs": [],
   "source": [
    "reviews['id_review'] = reviews.index  # Create id_review as a unique identifier for each review\n",
    "reviews = reviews[['id_review', 'id_store', 'review_time', 'rating', 'review']]  # Corrected order\n",
    "reviews.to_csv('reviews.csv', index=False, line_terminator='\\n')\n"
   ]
  }
 ],
 "metadata": {
  "kernelspec": {
   "display_name": "Python 3 (ipykernel)",
   "language": "python",
   "name": "python3"
  },
  "language_info": {
   "codemirror_mode": {
    "name": "ipython",
    "version": 3
   },
   "file_extension": ".py",
   "mimetype": "text/x-python",
   "name": "python",
   "nbconvert_exporter": "python",
   "pygments_lexer": "ipython3",
   "version": "3.7.12"
  }
 },
 "nbformat": 4,
 "nbformat_minor": 5
}
